{
 "cells": [
  {
   "cell_type": "code",
   "execution_count": null,
   "id": "810eef58",
   "metadata": {},
   "outputs": [],
   "source": []
  },
  {
   "cell_type": "code",
   "execution_count": 8,
   "id": "473a223c",
   "metadata": {},
   "outputs": [],
   "source": [
    "import cx_Oracle\n",
    "import os\n",
    "from numpy import dot\n",
    "from numpy.linalg import norm\n",
    "import numpy as np"
   ]
  },
  {
   "cell_type": "code",
   "execution_count": 9,
   "id": "094966e2",
   "metadata": {},
   "outputs": [],
   "source": [
    "def cos_sim(a, b): #코사인 유사도를 뽑는 함수\n",
    "    return dot(a, b)/(norm(a)*norm(b))  "
   ]
  },
  {
   "cell_type": "code",
   "execution_count": 10,
   "id": "4afd3aea",
   "metadata": {},
   "outputs": [],
   "source": [
    "def errorCheck(userId) :\n",
    "    LOCATION = \"C:\\instantclient_21_6\"\n",
    "    os.environ[\"PATH\"] = LOCATION \n",
    "    connect = cx_Oracle.connect(\"campus_f_0707_2\",\"smhrd2\",\"project-db-stu.ddns.net:1524/xe\")    ## DB접속\n",
    "    cursor1 = connect.cursor()\n",
    "    cursor1.execute(f\"select indexu from userui where userid='{userId}'\")\n",
    "    col1=[]\n",
    "    for i in cursor1:\n",
    "        col1.append(i)\n",
    "    cursor1.close()\n",
    "    if col1 == [] :\n",
    "        error = 0\n",
    "    else :\n",
    "        error = 1\n",
    "    return error"
   ]
  },
  {
   "cell_type": "code",
   "execution_count": 11,
   "id": "a050dafc",
   "metadata": {},
   "outputs": [
    {
     "data": {
      "text/plain": [
       "1"
      ]
     },
     "execution_count": 11,
     "metadata": {},
     "output_type": "execute_result"
    }
   ],
   "source": [
    "errorCheck('zxc')"
   ]
  },
  {
   "cell_type": "markdown",
   "id": "854200fe",
   "metadata": {},
   "source": [
    "## 메뉴 추천\n",
    "사용자가 전날 섭취했던 음식데이터를 기반으로 기준데이터와 비교해 추천을 한다"
   ]
  },
  {
   "cell_type": "code",
   "execution_count": 29,
   "id": "7787e924",
   "metadata": {},
   "outputs": [],
   "source": [
    "def recommendFood(userId,category) : # 추천하는 음식에 이름 리스트를 뽑아주는 함수\n",
    "    \n",
    "    LOCATION = \"C:\\instantclient_21_6\"\n",
    "    os.environ[\"PATH\"] = LOCATION \n",
    "    connect = cx_Oracle.connect(\"campus_f_0707_2\",\"smhrd2\",\"project-db-stu.ddns.net:1524/xe\")    ## DB접속\n",
    "    cursor1 = connect.cursor()\n",
    "    cursor1.execute(f\"select * from food where label='{category}'\")  # 분류가 category 인음식 데이터\n",
    "    cursor2 = connect.cursor()\n",
    "    cursor2.execute(f\"select r.* from reference r, userinfo i where r.gender=i.gender and r.age=i.age and i.userid='{userId}'\") # 아이디가 userId인 사람의 성별과 나이대를 고려한 기준데이터\n",
    "    cursor3 = connect.cursor()\n",
    "    cursor3.execute(f\"select TO_DATE(u.udate, 'YYYY-MM-DD'), avg(f.kcal),avg(f.carbohydrate),avg(f.protein),avg(f.fat),avg(f.sugar),avg(f.ca),avg(f.fe),avg(f.mg),avg(f.k),avg(f.na),avg(f.vitaminb),avg(f.vitaminc)from food f, userui u where f.foodid=u.foodid and u.userid='{userId}' group by TO_DATE(u.udate, 'YYYY-MM-DD') order by TO_DATE(u.udate, 'YYYY-MM-DD') desc\") \n",
    "    # 아이디가 a인 사람인 섭취한 음식 일평균 영양 데이터\n",
    "    col1=[]\n",
    "    col2=[]\n",
    "    col3=[]\n",
    "    for i in cursor1:\n",
    "        col1.append(i)\n",
    "    for i in cursor2:\n",
    "        col2.append(i)\n",
    "    for i in cursor3:\n",
    "        col3.append(i)\n",
    "    cursor1.close()\n",
    "    cursor2.close()\n",
    "    cursor3.close()   ## 서버 닫기\n",
    "    reference=np.array(col2[0][3:])  # 기준데이터\n",
    "    userInfo=np.array(col3[0][1:]) # 최근 일평균 영양데이터 \n",
    "    percent =1- userInfo/reference #부족한 권장 섭취량과 실제 섭취량의 비율 \n",
    "    print(len(col1[1]))\n",
    "    recommend={}\n",
    "    for i in range(len(col1)) :\n",
    "        recommend[col1[i][1]]=cos_sim(np.array(col1[i][3:15]),percent) ## foodid 별 category 음식데이터와 비율의 코사인 유사도 구하기\n",
    "    recommend_list = sorted(recommend.items(), key = lambda item: item[1], reverse = True)  ## 유사도 높은 순으로 정렬\n",
    "    menuRecommend =[]\n",
    "    for i in range(5):\n",
    "        menuRecommend.append(recommend_list[i][0])\n",
    "    return menuRecommend"
   ]
  },
  {
   "cell_type": "code",
   "execution_count": 30,
   "id": "8db12a28",
   "metadata": {},
   "outputs": [
    {
     "name": "stdout",
     "output_type": "stream",
     "text": [
      "16\n"
     ]
    },
    {
     "data": {
      "text/plain": [
       "['곤드레나물밥', '영양돌솥밥', '검정콩밥', '닭고기덮밥', '생선모듬초밥']"
      ]
     },
     "execution_count": 30,
     "metadata": {},
     "output_type": "execute_result"
    }
   ],
   "source": [
    "recommendFood('zxc','밥류')"
   ]
  },
  {
   "cell_type": "markdown",
   "id": "c88fbc15",
   "metadata": {},
   "source": [
    "## 영양제 추천\n",
    "사용자가 섭취했던 전체 데이터를 총합 평균내어 기준데이터에 기반에 추천한다"
   ]
  },
  {
   "cell_type": "code",
   "execution_count": null,
   "id": "e6159b5f",
   "metadata": {},
   "outputs": [],
   "source": [
    "def deficientNutrient(userId) : # 추천하는 영양제의 성분을 뽑아주는 함수\n",
    "    LOCATION = \"C:\\instantclient_21_6\"\n",
    "    os.environ[\"PATH\"] = LOCATION\n",
    "    connect = cx_Oracle.connect(\"campus_f_0707_2\",\"smhrd2\",\"project-db-stu.ddns.net:1524/xe\")    ## DB접속\n",
    " \n",
    "    cursor2 = connect.cursor()\n",
    "    cursor2.execute(f\"select r.ca,r.fe,r.mg,r.k,r.vitaminb,r.vitaminc from reference r, userinfo i where r.gender=i.gender and r.age=i.age and i.userid='{userId}'\") # 아이디가 a인 사람의 성별과 나이대를 고려한 기준데이터\n",
    "    cursor3 = connect.cursor()\n",
    "    cursor3.execute(f\"select avg(f.ca),avg(f.fe),avg(f.mg),avg(f.k),avg(f.vitaminb),avg(f.vitaminc)from food f, userui u where f.foodid=u.foodid and u.userid='{userId}'\") \n",
    "    # 아이디가 a인 사람인 섭취한 평균 영양 데이터\n",
    "    \n",
    "    col2=[]\n",
    "    col3=[]\n",
    "   \n",
    "    for i in cursor2:\n",
    "        col2.append(i)\n",
    "    for i in cursor3:\n",
    "        col3.append(i)\n",
    "\n",
    "    reference=np.array(col2[0])  # 기준데이터\n",
    "    userInfo=np.array(col3[0])\n",
    "    percent = userInfo/reference #권장 섭취량과 실제 섭취량에 비율\n",
    "        \n",
    "    min_list =[]\n",
    "    for i in range(len(percent)):\n",
    "        min_list.append(np.argmax(percent))  #가장 큰 인덱스를 반환\n",
    "        percent[np.argmax(percent)]=-1       #가장 비율이 큰 영양소의 인덱스 순으로 뽑아 리스트에 저장한다\n",
    "    min_list.reverse()   # 역을 취해 오름차순으로\n",
    "    lack=0\n",
    "    if min_list[0]==0 :\n",
    "        print(\"ca\")\n",
    "        lack =\"ca\"   ##\n",
    "    elif min_list[0]==1:\n",
    "        print(\"fe\")\n",
    "        lack =\"fe\" ##\n",
    "    elif min_list[0]==2:\n",
    "        print(\"mg\")\n",
    "        lack =\"mg\" ##\n",
    "    elif min_list[0]==3:\n",
    "        print(\"k\")\n",
    "        lack =\"k\"  ##\n",
    "    elif min_list[0]==4:\n",
    "        print(\"vitaminb\")\n",
    "        lack =\"vitaminb\" ##\n",
    "    elif min_list[0]==5:\n",
    "        print(\"vitaminc\")\n",
    "        lack =\"vitaminc\"\n",
    "   \n",
    "    cursor2.close()\n",
    "    cursor3.close()   ## 서버 닫기\n",
    "  \n",
    "    return lack"
   ]
  },
  {
   "cell_type": "code",
   "execution_count": 17,
   "id": "92ce3cf5",
   "metadata": {},
   "outputs": [
    {
     "name": "stdout",
     "output_type": "stream",
     "text": [
      "vitaminb\n"
     ]
    },
    {
     "data": {
      "text/plain": [
       "'vitaminb'"
      ]
     },
     "execution_count": 17,
     "metadata": {},
     "output_type": "execute_result"
    }
   ],
   "source": [
    "deficientNutrient('zxc')"
   ]
  },
  {
   "cell_type": "code",
   "execution_count": 18,
   "id": "4c4c3281",
   "metadata": {},
   "outputs": [],
   "source": [
    "def recommendNutrients(nutrient) : \n",
    "    nutrient =nutrient.lower()\n",
    "    LOCATION = \"C:\\instantclient_21_6\"\n",
    "    os.environ[\"PATH\"] = LOCATION\n",
    "    connect = cx_Oracle.connect(\"campus_f_0707_2\",\"smhrd2\",\"project-db-stu.ddns.net:1524/xe\")    ## DB접속\n",
    "\n",
    "    nutrients0 = connect.cursor()\n",
    "    nutrients0.execute(f\"select nutnm, img, link from nutrients where label='{nutrient}'order by score desc\") # 부족한 영양소의 해당하는 영양제 리스트\n",
    "\n",
    "    col=[]\n",
    "    nutrients=[]\n",
    "    for i in nutrients0:\n",
    "        col.append(i)\n",
    "    for  i in range(3) :\n",
    "        nutrients.append(col[i][0])\n",
    "    return nutrients"
   ]
  },
  {
   "cell_type": "code",
   "execution_count": 19,
   "id": "91d229b3",
   "metadata": {},
   "outputs": [
    {
     "data": {
      "text/plain": [
       "['NOW Foods, 비타민B-6 함유 GABA, 500mg, 베지 캡슐 200정',\n",
       " 'Solgar, 비타민B6 함유 마그네슘, 250정',\n",
       " 'Sundown Naturals, B-복합체, 100 정']"
      ]
     },
     "execution_count": 19,
     "metadata": {},
     "output_type": "execute_result"
    }
   ],
   "source": [
    "recommendNutrients('VITAMINB')"
   ]
  },
  {
   "cell_type": "markdown",
   "id": "138d0790",
   "metadata": {},
   "source": [
    "### 영양제 추천메커니즘 추가"
   ]
  },
  {
   "cell_type": "code",
   "execution_count": 20,
   "id": "d65d0bd3",
   "metadata": {},
   "outputs": [],
   "source": [
    "def recommendUsaUser(userId) :  ## 사용자와 유사한 영양데이터를 갖는 사용자를 찾는 함수\n",
    "    LOCATION = \"C:\\instantclient_21_6\"\n",
    "    os.environ[\"PATH\"] = LOCATION\n",
    "    connect = cx_Oracle.connect(\"campus_f_0707_2\",\"smhrd2\",\"project-db-stu.ddns.net:1524/xe\")    ## DB접속\n",
    "    cursor1 = connect.cursor() #전체 유저 영양 평균 데이터\n",
    "    cursor1.execute(f\" select userid, avg(f.kcal),avg(f.carbohydrate),avg(f.protein),avg(f.fat),avg(f.sugar),avg(f.ca),avg(f.fe),avg(f.mg),avg(f.k),avg(f.na),avg(f.vitaminb),avg(f.vitaminc)from food f, userui u where f.foodid=u.foodid group by u.userid\")\n",
    "    cursor2 = connect.cursor()\n",
    "    cursor2.execute(f\"select r.* from reference r, userinfo i where r.gender=i.gender and r.age=i.age and i.userid='{userId}'\") # 아이디가 userId인 사람의 성별과 나이대를 고려한 기준데이터\n",
    "    cursor3 = connect.cursor()\n",
    "    cursor3.execute(f\"select avg(f.kcal),avg(f.carbohydrate),avg(f.protein),avg(f.fat),avg(f.sugar),avg(f.ca),avg(f.fe),avg(f.mg),avg(f.k),avg(f.na),avg(f.vitaminb),avg(f.vitaminc)from food f, userui u where f.foodid=u.foodid and u.userid='{userId}'\") \n",
    "    # 아이디가 a인 사람인 섭취한 음식 영양 데이터\n",
    "    col1=[]\n",
    "    col2=[]\n",
    "    col3=[]\n",
    "    for i in cursor1:\n",
    "        col1.append(i)   \n",
    "    for i in cursor2:\n",
    "        col2.append(i)\n",
    "    for i in cursor3:\n",
    "        col3.append(i)\n",
    "    cursor1.close()\n",
    "    cursor2.close()\n",
    "    cursor3.close()   ## 서버 닫기\n",
    "    reference=np.array(col2[0][3:])  # 기준데이터\n",
    "    userInfo=np.array(col3[0][:]) # 최근 일평균 영양데이터 \n",
    "    percent = userInfo/reference #권장 섭취량과 사용유저 섭취량에 비율\n",
    "\n",
    "    idPercentUsa = {}\n",
    "    for i in range(len(col1)):\n",
    "        idPercentUsa[col1[i][0]] =cos_sim(np.array(col1[i][1:]/reference),percent)    ## 사용유저와 전체 사용자간의 유사도 리스트 인덱스는 전체유저의 아이디\n",
    "       \n",
    "    \n",
    "    recommend_list = sorted(idPercentUsa.items(), key = lambda item: item[1], reverse = True)  ## 유사도 높은 순으로 정렬\n",
    "    usaUser =[]\n",
    "    for i in range(len(col1)):\n",
    "        usaUser.append(recommend_list[i][0])\n",
    "    return usaUser"
   ]
  },
  {
   "cell_type": "code",
   "execution_count": 21,
   "id": "e819daf9",
   "metadata": {},
   "outputs": [
    {
     "data": {
      "text/plain": [
       "['ttt',\n",
       " 'wo',\n",
       " 'tnwl',\n",
       " 'kimchman',\n",
       " 'exp',\n",
       " '엄태균',\n",
       " '고준영죽빵',\n",
       " 'asas',\n",
       " 'zz',\n",
       " 'ikujo',\n",
       " '1',\n",
       " '2',\n",
       " 'ikujo123',\n",
       " 'admin',\n",
       " 'zxc',\n",
       " 'yerim',\n",
       " '12344']"
      ]
     },
     "execution_count": 21,
     "metadata": {},
     "output_type": "execute_result"
    }
   ],
   "source": [
    "recommendUsaUser('ttt')\n"
   ]
  },
  {
   "cell_type": "code",
   "execution_count": 22,
   "id": "61a03546",
   "metadata": {},
   "outputs": [],
   "source": [
    "def recommendUsaNutri(userId) :  # 사용자가 가장 최근의 선택한 영양제 리스트를 호출하는 함수\n",
    "    LOCATION = \"C:\\instantclient_21_6\"\n",
    "    os.environ[\"PATH\"] = LOCATION\n",
    "    connect = cx_Oracle.connect(\"campus_f_0707_2\",\"smhrd2\",\"project-db-stu.ddns.net:1524/xe\")    ## DB접속\n",
    "    cursor1 = connect.cursor() \n",
    "    cursor1.execute(f\"select s_nutnm from S_NUTRIENTS where SS_USERID='{userId}' order by s_date desc\")#유사도 높은 유저가 선택한 최신순 영양제 데이터\n",
    "    # 아이디가 a인 사람인 섭취한 음식 일평균 영양 데이터\n",
    "    col1=[]\n",
    "    for i in cursor1:\n",
    "        col1.append(i)   \n",
    "    cursor1.close()   ## 서버 닫기\n",
    "    recommendNutrients=[]\n",
    "   \n",
    "    for i in range(len(col1)):\n",
    "        recommendNutrients.append(col1[i][0])  #영양제 이름란 리스트에\n",
    "    recommendNutrientsOlRm = []\n",
    "    for v in recommendNutrients:    ## 중복 제거\n",
    "        if v not in recommendNutrientsOlRm:\n",
    "            recommendNutrientsOlRm.append(v)\n",
    "      \n",
    "    return recommendNutrientsOlRm"
   ]
  },
  {
   "cell_type": "code",
   "execution_count": 23,
   "metadata": {},
   "outputs": [],
   "source": [
    "def nutriSet3(userId) :  ## 추천하는 영양제를 3개로 마쳐주는 메소드\n",
    "    recoNutirSet3=[]\n",
    "    for i in recommendUsaNutri(recommendUsaUser(userId)[1]):\n",
    "        recoNutirSet3.append(i)\n",
    "\n",
    "    if len(recoNutirSet3)<3 :\n",
    "        for j in  range(1,len(recommendUsaUser(userId))):\n",
    "            if len(recoNutirSet3)==3 :\n",
    "                    break\n",
    "            for i in recommendUsaNutri(recommendUsaUser(userId)[j]):\n",
    "                recoNutirSet3.append(i)\n",
    "                if len(recoNutirSet3)==3 :\n",
    "                    break\n",
    "                \n",
    "    return recoNutirSet3"
   ]
  },
  {
   "cell_type": "code",
   "execution_count": 24,
   "id": "87f96abd",
   "metadata": {},
   "outputs": [
    {
     "data": {
      "text/plain": [
       "['21st Century, 마그네슘, 250mg, 110정',\n",
       " 'Natural Factors, 마그네슘시트레이트, 150mg, 캡슐 90정',\n",
       " '21st Century, 마그네슘, 250mg, 110정']"
      ]
     },
     "execution_count": 24,
     "metadata": {},
     "output_type": "execute_result"
    }
   ],
   "source": [
    "nutriSet3('zxc')"
   ]
  },
  {
   "cell_type": "markdown",
   "id": "3051e00a",
   "metadata": {},
   "source": [
    "## jsp에서 id와 category를 받아 추천메뉴를 jsp에 전송\n",
    "## jsp에서 id를 받아 추천영양제를 jsp에 전송"
   ]
  },
  {
   "cell_type": "code",
   "execution_count": 28,
   "id": "1a6de7d7",
   "metadata": {},
   "outputs": [
    {
     "name": "stdout",
     "output_type": "stream",
     "text": [
      " * Serving Flask app \"__main__\" (lazy loading)\n",
      " * Environment: production\n",
      "\u001b[31m   WARNING: This is a development server. Do not use it in a production deployment.\u001b[0m\n",
      "\u001b[2m   Use a production WSGI server instead.\u001b[0m\n",
      " * Debug mode: off\n"
     ]
    },
    {
     "name": "stderr",
     "output_type": "stream",
     "text": [
      " * Running on http://59.0.147.198:5000/ (Press CTRL+C to quit)\n"
     ]
    }
   ],
   "source": [
    "from urllib import parse\n",
    "from unicodedata import category\n",
    "from flask import Flask,request,redirect,render_template\n",
    "from sympy import re\n",
    "\n",
    "app = Flask(__name__) # flask 서버객체 생성\n",
    " \n",
    "# route(경로): 외부에서 접근할 때 페이지 구분을 위한 경로지정\n",
    "@app.route('/RecommendFood')\n",
    "def food():\n",
    "    id = request.args.get('id')\n",
    "    category = request.args.get('category')\n",
    "    ip = request.args.get('ip')\n",
    "    if errorCheck(id) == 1 :\n",
    "        menu=''\n",
    "        rF=recommendFood(id,category)\n",
    "        for i in rF :\n",
    "            menu=menu+('menu='+i+'&')      ## 리스트를 쿼리스트링으로 보내기\n",
    "        nutrients=''\n",
    "        nutrientsReCo=''\n",
    "        dN=deficientNutrient(id)\n",
    "        rN=recommendNutrients(dN)\n",
    "        rN2=nutriSet3(id)\n",
    "        for i in rN :\n",
    "            nutrients=nutrients+('nutrients='+i+'&')      ## 리스트를 쿼리스트링으로 보내기\n",
    "        for i in rN2 :\n",
    "            nutrientsReCo=nutrientsReCo+('nutrientsReCo='+i+'&')   \n",
    "        url =f\"http://{ip}:8082/ikujo/RecommendFood.jsp?category={category}&{nutrients}{menu}{nutrientsReCo}\"\n",
    "    else :\n",
    "        url =f\"http://{ip}:8082/ikujo/SelectFood.jsp?error=on\"\n",
    "    return redirect(url)\n",
    "\n",
    "# main함수의 시작을 의미 \n",
    "# 비유하자면 자바의 main(String[] args)메소드와 같은 역할\n",
    "if __name__ == '__main__':\n",
    "    # 웹서버주소(host)와 포트번호(port)를 지정하여 웹 서버 실행\n",
    "    app.run(host='59.0.147.198', port='5000') "
   ]
  },
  {
   "cell_type": "code",
   "execution_count": null,
   "metadata": {},
   "outputs": [],
   "source": []
  },
  {
   "cell_type": "markdown",
   "id": "c1e13d58",
   "metadata": {},
   "source": [
    "## 유사한 사용자 골라준느 플라스크 서버 (채팅기능을 위해)"
   ]
  },
  {
   "cell_type": "code",
   "execution_count": 193,
   "id": "6bb80431",
   "metadata": {},
   "outputs": [
    {
     "name": "stdout",
     "output_type": "stream",
     "text": [
      " * Serving Flask app \"__main__\" (lazy loading)\n",
      " * Environment: production\n",
      "\u001b[31m   WARNING: This is a development server. Do not use it in a production deployment.\u001b[0m\n",
      "\u001b[2m   Use a production WSGI server instead.\u001b[0m\n",
      " * Debug mode: off\n"
     ]
    },
    {
     "name": "stderr",
     "output_type": "stream",
     "text": [
      " * Running on http://59.0.147.198:5000/ (Press CTRL+C to quit)\n",
      "59.0.147.198 - - [04/Aug/2022 11:06:40] \"GET /?ip=59.0.147.198&id=zxc HTTP/1.1\" 302 -\n",
      "59.0.147.198 - - [04/Aug/2022 11:13:06] \"GET /?ip=59.0.147.198&id=zxc HTTP/1.1\" 302 -\n",
      "59.0.147.198 - - [04/Aug/2022 11:14:06] \"GET /?ip=59.0.147.198&id=zxc HTTP/1.1\" 302 -\n",
      "59.0.147.198 - - [04/Aug/2022 11:15:29] \"GET /?ip=59.0.147.198&id=zxc HTTP/1.1\" 302 -\n",
      "59.0.147.198 - - [04/Aug/2022 11:17:24] \"GET /?ip=59.0.147.198&id=zxc HTTP/1.1\" 302 -\n",
      "59.0.147.198 - - [04/Aug/2022 11:18:37] \"GET /?ip=59.0.147.198&id=zxc HTTP/1.1\" 302 -\n",
      "59.0.147.198 - - [04/Aug/2022 11:20:11] \"GET /?ip=59.0.147.198&id=zxc HTTP/1.1\" 302 -\n",
      "59.0.147.198 - - [04/Aug/2022 11:25:18] \"GET /?ip=59.0.147.198&id=zxc HTTP/1.1\" 302 -\n",
      "59.0.147.198 - - [04/Aug/2022 11:25:46] \"GET /?ip=59.0.147.198&id=zxc HTTP/1.1\" 302 -\n",
      "59.0.147.198 - - [04/Aug/2022 11:26:17] \"GET /?ip=59.0.147.198&id=zxc HTTP/1.1\" 302 -\n",
      "59.0.147.198 - - [04/Aug/2022 11:27:39] \"GET /?ip=59.0.147.198&id=zxc HTTP/1.1\" 302 -\n",
      "59.0.147.198 - - [04/Aug/2022 11:28:41] \"GET /?ip=59.0.147.198&id=zxc HTTP/1.1\" 302 -\n",
      "59.0.147.198 - - [04/Aug/2022 11:30:36] \"GET /?ip=59.0.147.198&id=zxc HTTP/1.1\" 302 -\n",
      "59.0.236.245 - - [04/Aug/2022 11:40:23] \"GET /RecommendFood?id=1&ip=59.0.236.245&category=밥류 HTTP/1.1\" 404 -\n",
      "59.0.236.245 - - [04/Aug/2022 11:40:23] \"GET /favicon.ico HTTP/1.1\" 404 -\n",
      "59.0.147.198 - - [04/Aug/2022 11:51:54] \"GET /?ip=59.0.147.198&id=zxc HTTP/1.1\" 302 -\n",
      "59.0.147.198 - - [04/Aug/2022 11:57:44] \"GET /?ip=59.0.147.198&id=zxc HTTP/1.1\" 302 -\n",
      "59.0.147.198 - - [04/Aug/2022 12:05:18] \"GET /?ip=59.0.147.198&id=zxc HTTP/1.1\" 302 -\n",
      "59.0.147.198 - - [04/Aug/2022 12:06:27] \"GET /?ip=59.0.147.198&id=zxc HTTP/1.1\" 302 -\n",
      "59.0.147.198 - - [04/Aug/2022 12:09:33] \"GET /?ip=59.0.147.198&id=zxc HTTP/1.1\" 302 -\n",
      "59.0.147.198 - - [04/Aug/2022 12:09:54] \"GET /?ip=59.0.147.198&id=zxc HTTP/1.1\" 302 -\n",
      "59.0.147.198 - - [04/Aug/2022 12:10:46] \"GET /?ip=59.0.147.198&id=zxc HTTP/1.1\" 302 -\n",
      "59.0.147.198 - - [04/Aug/2022 12:12:52] \"GET /?ip=59.0.147.198&id=zxc HTTP/1.1\" 302 -\n",
      "59.0.147.198 - - [04/Aug/2022 12:20:05] \"GET /?ip=59.0.147.198&id=zxc HTTP/1.1\" 302 -\n",
      "59.0.147.198 - - [04/Aug/2022 12:26:24] \"GET /?ip=59.0.147.198&id=zxc HTTP/1.1\" 302 -\n",
      "59.0.236.245 - - [04/Aug/2022 12:31:32] \"GET /RecommendFood?id=예진&ip=59.0.236.245&category=밥류 HTTP/1.1\" 404 -\n",
      "59.0.236.245 - - [04/Aug/2022 12:32:54] \"GET /RecommendFood?id=예진&ip=59.0.236.245&category=밥류 HTTP/1.1\" 404 -\n",
      "59.0.147.198 - - [04/Aug/2022 12:49:08] \"GET /?ip=59.0.147.198&id=zxc HTTP/1.1\" 302 -\n",
      "[2022-08-04 13:15:31,076] ERROR in app: Exception on / [HEAD]\n",
      "Traceback (most recent call last):\n",
      "  File \"c:\\Users\\smhrd\\anaconda3\\lib\\site-packages\\flask\\app.py\", line 2447, in wsgi_app\n",
      "    response = self.full_dispatch_request()\n",
      "  File \"c:\\Users\\smhrd\\anaconda3\\lib\\site-packages\\flask\\app.py\", line 1952, in full_dispatch_request\n",
      "    rv = self.handle_user_exception(e)\n",
      "  File \"c:\\Users\\smhrd\\anaconda3\\lib\\site-packages\\flask\\app.py\", line 1821, in handle_user_exception\n",
      "    reraise(exc_type, exc_value, tb)\n",
      "  File \"c:\\Users\\smhrd\\anaconda3\\lib\\site-packages\\flask\\_compat.py\", line 39, in reraise\n",
      "    raise value\n",
      "  File \"c:\\Users\\smhrd\\anaconda3\\lib\\site-packages\\flask\\app.py\", line 1950, in full_dispatch_request\n",
      "    rv = self.dispatch_request()\n",
      "  File \"c:\\Users\\smhrd\\anaconda3\\lib\\site-packages\\flask\\app.py\", line 1936, in dispatch_request\n",
      "    return self.view_functions[rule.endpoint](**req.view_args)\n",
      "  File \"C:\\Users\\smhrd\\AppData\\Local\\Temp\\ipykernel_11480\\3229343476.py\", line 13, in member\n",
      "    usaUserList=recommendUsaUser(id)\n",
      "  File \"C:\\Users\\smhrd\\AppData\\Local\\Temp\\ipykernel_11480\\3107728980.py\", line 24, in recommendUsaUser\n",
      "    reference=np.array(col2[0][3:])  # 기준데이터\n",
      "IndexError: list index out of range\n",
      "104.248.197.43 - - [04/Aug/2022 13:15:31] \"HEAD / HTTP/1.0\" 500 -\n",
      "104.248.197.43 - - [04/Aug/2022 13:15:31] \"GET /system_api.php HTTP/1.1\" 404 -\n",
      "104.248.197.43 - - [04/Aug/2022 13:15:32] \"GET /c/version.js HTTP/1.1\" 404 -\n",
      "104.248.197.43 - - [04/Aug/2022 13:15:33] \"GET /streaming/clients_live.php HTTP/1.1\" 404 -\n",
      "104.248.197.43 - - [04/Aug/2022 13:15:34] \"GET /stalker_portal/c/version.js HTTP/1.1\" 404 -\n",
      "104.248.197.43 - - [04/Aug/2022 13:15:35] \"GET /stream/live.php HTTP/1.1\" 404 -\n",
      "104.248.197.43 - - [04/Aug/2022 13:15:36] \"GET /flu/403.html HTTP/1.1\" 404 -\n",
      "[2022-08-04 13:15:37,695] ERROR in app: Exception on / [GET]\n",
      "Traceback (most recent call last):\n",
      "  File \"c:\\Users\\smhrd\\anaconda3\\lib\\site-packages\\flask\\app.py\", line 2447, in wsgi_app\n",
      "    response = self.full_dispatch_request()\n",
      "  File \"c:\\Users\\smhrd\\anaconda3\\lib\\site-packages\\flask\\app.py\", line 1952, in full_dispatch_request\n",
      "    rv = self.handle_user_exception(e)\n",
      "  File \"c:\\Users\\smhrd\\anaconda3\\lib\\site-packages\\flask\\app.py\", line 1821, in handle_user_exception\n",
      "    reraise(exc_type, exc_value, tb)\n",
      "  File \"c:\\Users\\smhrd\\anaconda3\\lib\\site-packages\\flask\\_compat.py\", line 39, in reraise\n",
      "    raise value\n",
      "  File \"c:\\Users\\smhrd\\anaconda3\\lib\\site-packages\\flask\\app.py\", line 1950, in full_dispatch_request\n",
      "    rv = self.dispatch_request()\n",
      "  File \"c:\\Users\\smhrd\\anaconda3\\lib\\site-packages\\flask\\app.py\", line 1936, in dispatch_request\n",
      "    return self.view_functions[rule.endpoint](**req.view_args)\n",
      "  File \"C:\\Users\\smhrd\\AppData\\Local\\Temp\\ipykernel_11480\\3229343476.py\", line 13, in member\n",
      "    usaUserList=recommendUsaUser(id)\n",
      "  File \"C:\\Users\\smhrd\\AppData\\Local\\Temp\\ipykernel_11480\\3107728980.py\", line 24, in recommendUsaUser\n",
      "    reference=np.array(col2[0][3:])  # 기준데이터\n",
      "IndexError: list index out of range\n",
      "104.248.197.43 - - [04/Aug/2022 13:15:37] \"GET / HTTP/1.1\" 500 -\n",
      "59.0.147.198 - - [04/Aug/2022 14:15:21] \"GET /?ip=59.0.147.198&id=zxc HTTP/1.1\" 302 -\n",
      "211.63.240.99 - - [04/Aug/2022 14:18:05] \"GET /RecommendFood?id=tnwl&ip=211.63.240.99&category=밥류 HTTP/1.1\" 404 -\n",
      "59.0.147.198 - - [04/Aug/2022 14:19:45] \"GET /?ip=59.0.147.198&id=zxc HTTP/1.1\" 302 -\n",
      "59.0.147.198 - - [04/Aug/2022 14:23:02] \"GET /RecommendFood?id=zxc&ip=59.0.147.198&category=밥류 HTTP/1.1\" 404 -\n",
      "59.0.147.198 - - [04/Aug/2022 14:23:02] \"GET /favicon.ico HTTP/1.1\" 404 -\n"
     ]
    }
   ],
   "source": [
    "from urllib import parse\n",
    "from unicodedata import category\n",
    "from flask import Flask,request,redirect,render_template\n",
    "from sympy import re\n",
    "\n",
    "\n",
    "app = Flask(__name__) # flask 서버객체 생성\n",
    "\n",
    "@app.route('/')\n",
    "def member():\n",
    "    id = request.args.get('id')\n",
    "    ip = request.args.get('ip')\n",
    "    usaUserList=recommendUsaUser(id)\n",
    "    usaUser=''\n",
    "    for i in usaUserList :\n",
    "        usaUser=usaUser+('usaUser='+i+'&') \n",
    "    \n",
    "    url =f\"http://{ip}:8082/ikujo/Chatting.jsp?{usaUser}\"\n",
    "    return redirect(url)    \n",
    "# main함수의 시작을 의미\n",
    "# 비유하자면 자바의 main(String[] args)메소드와 같은 역할\n",
    "if __name__ == '__main__':\n",
    "    # 웹서버주소(host)와 포트번호(port)를 지정하여 웹 서버 실행\n",
    "    app.run(host='61.80.80.212', port='5001')"
   ]
  }
 ],
 "metadata": {
  "kernelspec": {
   "display_name": "Python 3.9.12 ('base')",
   "language": "python",
   "name": "python3"
  },
  "language_info": {
   "codemirror_mode": {
    "name": "ipython",
    "version": 3
   },
   "file_extension": ".py",
   "mimetype": "text/x-python",
   "name": "python",
   "nbconvert_exporter": "python",
   "pygments_lexer": "ipython3",
   "version": "3.9.12"
  },
  "vscode": {
   "interpreter": {
    "hash": "3d897ffbc13b5710e71e9fb36eb41d8dd58a75d8f4bd294893ab0962f9ec9b14"
   }
  }
 },
 "nbformat": 4,
 "nbformat_minor": 5
}
